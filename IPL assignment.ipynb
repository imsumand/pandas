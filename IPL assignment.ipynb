{
 "cells": [
  {
   "cell_type": "code",
   "execution_count": 1,
   "metadata": {},
   "outputs": [],
   "source": [
    "import numpy as np\n",
    "import pandas as pd"
   ]
  },
  {
   "cell_type": "code",
   "execution_count": 4,
   "metadata": {},
   "outputs": [],
   "source": [
    "match=pd.read_csv('matches.csv')\n",
    "delivery=pd.read_csv('deliveries.csv')"
   ]
  },
  {
   "cell_type": "markdown",
   "metadata": {},
   "source": [
    "# Q1. Find out a City which has hosted most no. of IPL openers i.e first match of a season.\n"
   ]
  },
  {
   "cell_type": "code",
   "execution_count": 13,
   "metadata": {},
   "outputs": [
    {
     "data": {
      "text/plain": [
       "Chennai    3\n",
       "Name: city, dtype: int64"
      ]
     },
     "execution_count": 13,
     "metadata": {},
     "output_type": "execute_result"
    }
   ],
   "source": [
    "m1=match.drop_duplicates('season')\n",
    "m1['city'].value_counts().head(1)"
   ]
  },
  {
   "cell_type": "markdown",
   "metadata": {},
   "source": [
    "# Q2. Find out top-3 batsman who has scored most runs against Malinga.\n"
   ]
  },
  {
   "cell_type": "code",
   "execution_count": 125,
   "metadata": {},
   "outputs": [
    {
     "data": {
      "text/plain": [
       "batsman\n",
       "SR Watson         127\n",
       "AB de Villiers    125\n",
       "MS Dhoni           89\n",
       "Name: batsman_runs, dtype: int64"
      ]
     },
     "execution_count": 125,
     "metadata": {},
     "output_type": "execute_result"
    }
   ],
   "source": [
    "mask1=delivery['bowler']==\"SL Malinga\"\n",
    "malinga=delivery[mask1]\n",
    "malinga.groupby('batsman').sum()['batsman_runs'].sort_values(ascending=False).head(3)"
   ]
  },
  {
   "cell_type": "markdown",
   "metadata": {},
   "source": [
    "# Q3. Make a function to find top bowler(in terms of most wickets) against any team. Take input as team."
   ]
  },
  {
   "cell_type": "code",
   "execution_count": 48,
   "metadata": {},
   "outputs": [],
   "source": [
    "def killer(team):\n",
    "    mask1=delivery['batting_team']==team\n",
    "    m=delivery[mask1]\n",
    "    mask2=m['dismissal_kind']== 'lbw'\n",
    "    mask3=m['dismissal_kind']== 'bowled'\n",
    "    mask4=m['dismissal_kind']== 'caught and bowled'\n",
    "    mask5=m['dismissal_kind']== 'caught'\n",
    "    mask6=m['dismissal_kind']== 'obstructing the field'\n",
    "    mask7=m['dismissal_kind']== 'stumped'\n",
    "    mask8=m['dismissal_kind']== 'hit wicket'\n",
    "    mask10= mask2 | mask3 | mask4 | mask5 | mask6 | mask7 | mask8\n",
    "    mask=m[mask10]\n",
    "    best=mask.groupby('bowler').count()['dismissal_kind'].sort_values(ascending=False).head(1)\n",
    "    return best "
   ]
  },
  {
   "cell_type": "code",
   "execution_count": 54,
   "metadata": {},
   "outputs": [
    {
     "data": {
      "text/plain": [
       "bowler\n",
       "SL Malinga    31\n",
       "Name: dismissal_kind, dtype: int64"
      ]
     },
     "execution_count": 54,
     "metadata": {},
     "output_type": "execute_result"
    }
   ],
   "source": [
    "killer(\"Chennai Super Kings\")"
   ]
  },
  {
   "cell_type": "markdown",
   "metadata": {},
   "source": [
    "# Q4. Write a function which will take team name as input and return it's record of no. occurance in finals and no. of times won. [Difficult]"
   ]
  },
  {
   "cell_type": "code",
   "execution_count": 103,
   "metadata": {},
   "outputs": [],
   "source": [
    "def notRCB(team):\n",
    "    mask1=match.drop_duplicates('season',keep='last')\n",
    "    mask2=mask1['team1']==team\n",
    "    mask3=mask1['team2']==team\n",
    "    mask4=mask2 | mask3\n",
    "    df=mask1[mask4]\n",
    "    total=df.count()['id']\n",
    "    m=df['winner']==team\n",
    "    win=df[m].count()['id']\n",
    "    print (\"Final matches played\",total,\"times\")\n",
    "    print (\"Champion of\",win,\"times\")"
   ]
  },
  {
   "cell_type": "code",
   "execution_count": 104,
   "metadata": {},
   "outputs": [
    {
     "name": "stdout",
     "output_type": "stream",
     "text": [
      "Final matches played 5 times\n",
      "Champion of 4 times\n"
     ]
    }
   ],
   "source": [
    "notRCB(\"Mumbai Indians\")"
   ]
  },
  {
   "cell_type": "markdown",
   "metadata": {},
   "source": [
    "# Q5. Write a function which will take a input as batsman and in output it gives total runs scored against each team. [Medium]"
   ]
  },
  {
   "cell_type": "code",
   "execution_count": 113,
   "metadata": {},
   "outputs": [],
   "source": [
    "def notYouBumrah(bat):\n",
    "    deliv=delivery[delivery['batsman']==bat]\n",
    "    runs=deliv.groupby('bowling_team').sum()['batsman_runs'].sort_values(ascending=False)\n",
    "    return runs"
   ]
  },
  {
   "cell_type": "code",
   "execution_count": 120,
   "metadata": {},
   "outputs": [
    {
     "data": {
      "text/plain": [
       "bowling_team\n",
       "Royal Challengers Bangalore    808\n",
       "Mumbai Indians                 669\n",
       "Kings XI Punjab                601\n",
       "Delhi Daredevils               488\n",
       "Kolkata Knight Riders          474\n",
       "Rajasthan Royals               428\n",
       "Sunrisers Hyderabad            398\n",
       "Deccan Chargers                281\n",
       "Pune Warriors                  135\n",
       "Delhi Capitals                  89\n",
       "Gujarat Lions                   83\n",
       "Kochi Tuskers Kerala            23\n",
       "Name: batsman_runs, dtype: int64"
      ]
     },
     "execution_count": 120,
     "metadata": {},
     "output_type": "execute_result"
    }
   ],
   "source": [
    "notYouBumrah(\"MS Dhoni\")"
   ]
  }
 ],
 "metadata": {
  "kernelspec": {
   "display_name": "Python 3",
   "language": "python",
   "name": "python3"
  },
  "language_info": {
   "codemirror_mode": {
    "name": "ipython",
    "version": 3
   },
   "file_extension": ".py",
   "mimetype": "text/x-python",
   "name": "python",
   "nbconvert_exporter": "python",
   "pygments_lexer": "ipython3",
   "version": "3.7.4"
  }
 },
 "nbformat": 4,
 "nbformat_minor": 2
}
